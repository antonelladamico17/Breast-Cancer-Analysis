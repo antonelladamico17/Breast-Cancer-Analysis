{
  "nbformat": 4,
  "nbformat_minor": 0,
  "metadata": {
    "colab": {
      "name": "Untitled0.ipynb",
      "provenance": [],
      "collapsed_sections": [],
      "authorship_tag": "ABX9TyMp9SloGKMLjByzn4OYuYPx",
      "include_colab_link": true
    },
    "kernelspec": {
      "name": "python3",
      "display_name": "Python 3"
    },
    "language_info": {
      "name": "python"
    }
  },
  "cells": [
    {
      "cell_type": "markdown",
      "metadata": {
        "id": "view-in-github",
        "colab_type": "text"
      },
      "source": [
        "<a href=\"https://colab.research.google.com/github/antonelladamico17/Breast-Cancer-Analysis/blob/main/Untitled0.ipynb\" target=\"_parent\"><img src=\"https://colab.research.google.com/assets/colab-badge.svg\" alt=\"Open In Colab\"/></a>"
      ]
    },
    {
      "cell_type": "code",
      "metadata": {
        "id": "ouflA5wy2wSx"
      },
      "source": [
        ""
      ],
      "execution_count": null,
      "outputs": []
    },
    {
      "cell_type": "code",
      "metadata": {
        "id": "DHMENfYq868w"
      },
      "source": [
        "!apt-get install openjdk-8-jdk-headless -qq > /dev/null\n",
        "!wget -q https://downloads.apache.org/spark/spark-2.4.7/spark-2.4.7-bin-hadoop2.7.tgz \n",
        "!tar xf spark-2.4.7-bin-hadoop2.7.tgz \n",
        "!pip install -q findspark"
      ],
      "execution_count": 4,
      "outputs": []
    },
    {
      "cell_type": "code",
      "metadata": {
        "id": "mln36GzJ-sNV"
      },
      "source": [
        "  import os\n",
        "os.environ[\"JAVA_HOME\"] = \"/usr/lib/jvm/java-8-openjdk-amd64\"\n",
        "os.environ[\"SPARK_HOME\"] = \"/content/spark-2.4.7-bin-hadoop2.7\""
      ],
      "execution_count": 5,
      "outputs": []
    },
    {
      "cell_type": "code",
      "metadata": {
        "id": "LN5MJiQ_E1YB"
      },
      "source": [
        "import findspark\n",
        "findspark.init(\"spark-2.4.7-bin-hadoop2.7\")# SPARK_HOME\n",
        "from pyspark.sql import SparkSession\n",
        "spark = SparkSession.builder.master(\"local[*]\").getOrCreate()"
      ],
      "execution_count": 6,
      "outputs": []
    },
    {
      "cell_type": "code",
      "metadata": {
        "colab": {
          "base_uri": "https://localhost:8080/"
        },
        "id": "iSOz4XjmFArz",
        "outputId": "a2e5ae22-96ae-48bc-83f1-bf3cdb585220"
      },
      "source": [
        "import pyspark\n",
        "type(spark)"
      ],
      "execution_count": 7,
      "outputs": [
        {
          "output_type": "execute_result",
          "data": {
            "text/plain": [
              "pyspark.sql.session.SparkSession"
            ]
          },
          "metadata": {
            "tags": []
          },
          "execution_count": 7
        }
      ]
    },
    {
      "cell_type": "code",
      "metadata": {
        "id": "59TZq4AXFGK0"
      },
      "source": [
        "sc = spark.sparkContext"
      ],
      "execution_count": 8,
      "outputs": []
    },
    {
      "cell_type": "code",
      "metadata": {
        "id": "rEbqsAP0FJfi"
      },
      "source": [
        "s = '''Every person had a star, every star had a friend, and for every person\n",
        "carrying a star there was someone else who reflected it, and everyone\n",
        "carried this reflection like a secret confidante in the heart'''\n",
        "simple_rdd = sc.parallelize(s.split('\\n'))"
      ],
      "execution_count": 10,
      "outputs": []
    },
    {
      "cell_type": "markdown",
      "metadata": {
        "id": "Xp_9HnvIFRo2"
      },
      "source": [
        "Here we have just assigned to the variable s the string above, containing 3 lines. we have invoked the method parallelize that accepts a python iterable and build a new RDD where the elements are that of the iterable. We split this string in lines, so we obtain 3 elements."
      ]
    },
    {
      "cell_type": "code",
      "metadata": {
        "colab": {
          "base_uri": "https://localhost:8080/"
        },
        "id": "LbX7NSXQFMon",
        "outputId": "767711c3-98b6-4d72-c6eb-2051f2495d4d"
      },
      "source": [
        "simple_rdd.collect()"
      ],
      "execution_count": 11,
      "outputs": [
        {
          "output_type": "execute_result",
          "data": {
            "text/plain": [
              "['Every person had a star, every star had a friend, and for every person',\n",
              " 'carrying a star there was someone else who reflected it, and everyone',\n",
              " 'carried this reflection like a secret confidante in the heart']"
            ]
          },
          "metadata": {
            "tags": []
          },
          "execution_count": 11
        }
      ]
    },
    {
      "cell_type": "markdown",
      "metadata": {
        "id": "1ffr-xxFF_9C"
      },
      "source": [
        "**Collect** is among the ACTION. So the results here is a list of all the elements in my RDD; we have 3 elements, each element is a small string. "
      ]
    },
    {
      "cell_type": "markdown",
      "metadata": {
        "id": "L7Kg2MSfIkBT"
      },
      "source": [
        "We can perform some operation. the **map** transformation, takes an RDD and allpies to all its element a function which is specified as argument. \n",
        "If we call only map it happens nothing, bcs Spark follow a lazy approach: it not execute something unless it is explicitly needed."
      ]
    },
    {
      "cell_type": "code",
      "metadata": {
        "colab": {
          "base_uri": "https://localhost:8080/"
        },
        "id": "Iflp0flBFM8J",
        "outputId": "054c5cec-607a-44fe-e4fc-dc48162086d1"
      },
      "source": [
        " (simple_rdd.map(lambda line: line.split(' '))\n",
        "           .collect())"
      ],
      "execution_count": 12,
      "outputs": [
        {
          "output_type": "execute_result",
          "data": {
            "text/plain": [
              "[['Every',\n",
              "  'person',\n",
              "  'had',\n",
              "  'a',\n",
              "  'star,',\n",
              "  'every',\n",
              "  'star',\n",
              "  'had',\n",
              "  'a',\n",
              "  'friend,',\n",
              "  'and',\n",
              "  'for',\n",
              "  'every',\n",
              "  'person'],\n",
              " ['carrying',\n",
              "  'a',\n",
              "  'star',\n",
              "  'there',\n",
              "  'was',\n",
              "  'someone',\n",
              "  'else',\n",
              "  'who',\n",
              "  'reflected',\n",
              "  'it,',\n",
              "  'and',\n",
              "  'everyone'],\n",
              " ['carried',\n",
              "  'this',\n",
              "  'reflection',\n",
              "  'like',\n",
              "  'a',\n",
              "  'secret',\n",
              "  'confidante',\n",
              "  'in',\n",
              "  'the',\n",
              "  'heart']]"
            ]
          },
          "metadata": {
            "tags": []
          },
          "execution_count": 12
        }
      ]
    },
    {
      "cell_type": "markdown",
      "metadata": {
        "id": "coP7a0AZJhJx"
      },
      "source": [
        "**flatMap** is a method that does the same of map but flatten the results.\\\n",
        "**take** only takes a prefixed numbers of elements.\\\n",
        "We do not see the duble brakets in the result, because it is flat."
      ]
    },
    {
      "cell_type": "code",
      "metadata": {
        "colab": {
          "base_uri": "https://localhost:8080/"
        },
        "id": "AEKwwzf4FNCw",
        "outputId": "66f338d0-efbc-4b9c-a373-5285aa82541d"
      },
      "source": [
        "(simple_rdd.flatMap(lambda line: line.split(' '))\n",
        "           .take(10))"
      ],
      "execution_count": 13,
      "outputs": [
        {
          "output_type": "execute_result",
          "data": {
            "text/plain": [
              "['Every',\n",
              " 'person',\n",
              " 'had',\n",
              " 'a',\n",
              " 'star,',\n",
              " 'every',\n",
              " 'star',\n",
              " 'had',\n",
              " 'a',\n",
              " 'friend,']"
            ]
          },
          "metadata": {
            "tags": []
          },
          "execution_count": 13
        }
      ]
    },
    {
      "cell_type": "markdown",
      "metadata": {
        "id": "996IYJq-KFlb"
      },
      "source": [
        "**flatMap** is the same operation as before.\\\n",
        "**map**  Now we know that we have obtained an RDD where those elements are stings, and we want to simply remove any comma that are possibly contained in that string (like for ex. friends,). "
      ]
    },
    {
      "cell_type": "code",
      "metadata": {
        "colab": {
          "base_uri": "https://localhost:8080/"
        },
        "id": "IYCFBc6mFNNz",
        "outputId": "aa8783b4-52d3-4ea7-88ca-4342b5fe9be1"
      },
      "source": [
        "(simple_rdd.flatMap(lambda line: line.split(' '))\n",
        "           .map(lambda word: word.replace(',', '').lower())\n",
        "           .take(5))"
      ],
      "execution_count": 14,
      "outputs": [
        {
          "output_type": "execute_result",
          "data": {
            "text/plain": [
              "['every', 'person', 'had', 'a', 'star']"
            ]
          },
          "metadata": {
            "tags": []
          },
          "execution_count": 14
        }
      ]
    },
    {
      "cell_type": "markdown",
      "metadata": {
        "id": "VMexzoEwKw7S"
      },
      "source": [
        "Now we subsequently apply **map** to the dataset which resulted here before we run the **take** action. \\\n",
        "We map any element (word) by using a fct that takes it and return a pair (tuple of two elements) where the first is the word and second is the fixed element 1.\\\n",
        "We want to compute the abs frequencies of words in a corpus.\n"
      ]
    },
    {
      "cell_type": "code",
      "metadata": {
        "colab": {
          "base_uri": "https://localhost:8080/"
        },
        "id": "9oNeVC8HFNXL",
        "outputId": "0dae60d1-f867-4a77-f1fb-712a8747728c"
      },
      "source": [
        "(simple_rdd.flatMap(lambda line: line.split(' '))\n",
        "           .map(lambda word: word.replace(',', '').lower())\n",
        "           .map(lambda word: (word, 1))\n",
        "           .take(5))"
      ],
      "execution_count": 15,
      "outputs": [
        {
          "output_type": "execute_result",
          "data": {
            "text/plain": [
              "[('every', 1), ('person', 1), ('had', 1), ('a', 1), ('star', 1)]"
            ]
          },
          "metadata": {
            "tags": []
          },
          "execution_count": 15
        }
      ]
    },
    {
      "cell_type": "markdown",
      "metadata": {
        "id": "4v0hgEveLrzB"
      },
      "source": [
        "Now we can add the *reduce* step. \\\n",
        "**reduceByKey** is a function that takes two arguments and return one value.\\\n",
        "We sum all the elements, so we have a+b."
      ]
    },
    {
      "cell_type": "code",
      "metadata": {
        "colab": {
          "base_uri": "https://localhost:8080/"
        },
        "id": "2-fU1n1WFNeV",
        "outputId": "a36301f2-de28-4674-bec6-60bc87a22f58"
      },
      "source": [
        "(simple_rdd.flatMap(lambda line: line.split(' '))\n",
        "           .map(lambda word: word.replace(',', '').lower())\n",
        "           .map(lambda word: (word, 1))\n",
        "           .reduceByKey(lambda a,b: a+b)\n",
        "           .collect())"
      ],
      "execution_count": 16,
      "outputs": [
        {
          "output_type": "execute_result",
          "data": {
            "text/plain": [
              "[('person', 2),\n",
              " ('there', 1),\n",
              " ('was', 1),\n",
              " ('carried', 1),\n",
              " ('this', 1),\n",
              " ('like', 1),\n",
              " ('secret', 1),\n",
              " ('confidante', 1),\n",
              " ('in', 1),\n",
              " ('heart', 1),\n",
              " ('every', 3),\n",
              " ('had', 2),\n",
              " ('a', 4),\n",
              " ('star', 3),\n",
              " ('friend', 1),\n",
              " ('and', 2),\n",
              " ('for', 1),\n",
              " ('carrying', 1),\n",
              " ('someone', 1),\n",
              " ('else', 1),\n",
              " ('who', 1),\n",
              " ('reflected', 1),\n",
              " ('it', 1),\n",
              " ('everyone', 1),\n",
              " ('reflection', 1),\n",
              " ('the', 1)]"
            ]
          },
          "metadata": {
            "tags": []
          },
          "execution_count": 16
        }
      ]
    },
    {
      "cell_type": "markdown",
      "metadata": {
        "id": "smlBMuaUOxpX"
      },
      "source": [
        "Below we have a simple fct that run what we have done before."
      ]
    },
    {
      "cell_type": "code",
      "metadata": {
        "id": "YOXz-9F7KLH0"
      },
      "source": [
        "def count_freq(rdd):\n",
        "  return (rdd.flatMap(lambda line: line.split(' '))\n",
        "            .map(lambda word: word.replace(',', '').lower())\n",
        "            .map(lambda word: (word, 1))\n",
        "            .reduceByKey(lambda a,b: a+b)\n",
        "            .collect())"
      ],
      "execution_count": 17,
      "outputs": []
    },
    {
      "cell_type": "code",
      "metadata": {
        "colab": {
          "base_uri": "https://localhost:8080/"
        },
        "id": "Y2230qzIOjRu",
        "outputId": "aa538b22-6ac0-4f9a-cd64-f68d2247100c"
      },
      "source": [
        "!wget http://www.scifiscripts.com/scripts/swd1_5-74.txt"
      ],
      "execution_count": 18,
      "outputs": [
        {
          "output_type": "stream",
          "text": [
            "--2021-04-25 08:53:01--  http://www.scifiscripts.com/scripts/swd1_5-74.txt\n",
            "Resolving www.scifiscripts.com (www.scifiscripts.com)... 207.32.177.145\n",
            "Connecting to www.scifiscripts.com (www.scifiscripts.com)|207.32.177.145|:80... connected.\n",
            "HTTP request sent, awaiting response... 200 OK\n",
            "Length: 203125 (198K) [text/plain]\n",
            "Saving to: ‘swd1_5-74.txt’\n",
            "\n",
            "swd1_5-74.txt       100%[===================>] 198.36K   632KB/s    in 0.3s    \n",
            "\n",
            "2021-04-25 08:53:02 (632 KB/s) - ‘swd1_5-74.txt’ saved [203125/203125]\n",
            "\n"
          ],
          "name": "stdout"
        }
      ]
    },
    {
      "cell_type": "code",
      "metadata": {
        "id": "_yi3ExQJOjUx"
      },
      "source": [
        "sw = sc.textFile('swd1_5-74.txt')"
      ],
      "execution_count": 19,
      "outputs": []
    },
    {
      "cell_type": "markdown",
      "metadata": {
        "id": "_maosKptO6TM"
      },
      "source": [
        "**textFile** allows us to create a RDD starting froma  file stored somewhere. If the argument is a string that does not specify any specific way of storing file this is interpreted as the path name of a file contained in the hardisk of the machine over we are running the program."
      ]
    },
    {
      "cell_type": "code",
      "metadata": {
        "colab": {
          "base_uri": "https://localhost:8080/"
        },
        "id": "mVX8yp0mOjXn",
        "outputId": "6f10f33d-e443-453e-a8a0-ea5b0305d543"
      },
      "source": [
        "sw.take(10)"
      ],
      "execution_count": 23,
      "outputs": [
        {
          "output_type": "execute_result",
          "data": {
            "text/plain": [
              "['The Star Wars',\n",
              " 'by',\n",
              " 'George Lucas',\n",
              " '',\n",
              " '',\n",
              " '',\n",
              " 'Rough Draft [First of four major screenplay drafts]',\n",
              " 'Lucasfilm Ltd.',\n",
              " '5/74',\n",
              " '']"
            ]
          },
          "metadata": {
            "tags": []
          },
          "execution_count": 23
        }
      ]
    },
    {
      "cell_type": "code",
      "metadata": {
        "colab": {
          "base_uri": "https://localhost:8080/"
        },
        "id": "wFKrkbqQOjkn",
        "outputId": "2bfc7f1d-dbb5-49eb-8db7-89a3884b8eee"
      },
      "source": [
        "count_freq(sw)[: 10]"
      ],
      "execution_count": 22,
      "outputs": [
        {
          "output_type": "execute_result",
          "data": {
            "text/plain": [
              "[('george', 1),\n",
              " ('', 3543),\n",
              " ('draft', 1),\n",
              " ('of', 744),\n",
              " ('four', 25),\n",
              " ('major', 2),\n",
              " ('drafts]', 1),\n",
              " ('ltd.', 1),\n",
              " ('5/74', 1),\n",
              " ('1.', 1)]"
            ]
          },
          "metadata": {
            "tags": []
          },
          "execution_count": 22
        }
      ]
    },
    {
      "cell_type": "code",
      "metadata": {
        "id": "fUQluKRfOjnP"
      },
      "source": [
        "import random\n",
        "\n",
        "NUM_SAMPLES = 10**7\n",
        "\n",
        "def inside(p):\n",
        "    x, y = random.random(), random.random()\n",
        "    return x*x + y*y < 1\n",
        "\n",
        "count = (sc.parallelize(range(0, NUM_SAMPLES))\n",
        "           .filter(inside).count())\n",
        "\n",
        "print('Pi is roughly {}'.format(4.0 * count / NUM_SAMPLES))"
      ],
      "execution_count": null,
      "outputs": []
    }
  ]
}